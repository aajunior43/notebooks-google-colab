{
  "cells": [
    {
      "cell_type": "markdown",
      "metadata": {
        "id": "view-in-github",
        "colab_type": "text"
      },
      "source": [
        "<a href=\"https://colab.research.google.com/github/aajunior43/notebooks-google-colab/blob/main/Ol%C3%A1%2C_este_%C3%A9_o_Colaboratory.ipynb\" target=\"_parent\"><img src=\"https://colab.research.google.com/assets/colab-badge.svg\" alt=\"Open In Colab\"/></a>"
      ]
    },
    {
      "cell_type": "code",
      "source": [
        "# Importando as bibliotecas necessárias\n",
        "import requests\n",
        "from bs4 import BeautifulSoup\n",
        "import os\n",
        "from urllib.parse import urljoin\n",
        "import zipfile\n",
        "from google.colab import files\n",
        "import shutil\n",
        "\n",
        "def download_images_from_url(url):\n",
        "    # Enviando uma solicitação GET para a URL\n",
        "    response = requests.get(url)\n",
        "\n",
        "    # Verificando se a solicitação foi bem-sucedida\n",
        "    if response.status_code == 200:\n",
        "        # Usando BeautifulSoup para analisar o conteúdo da página\n",
        "        soup = BeautifulSoup(response.content, 'html.parser')\n",
        "\n",
        "        # Encontrando todas as tags de imagem\n",
        "        img_tags = soup.find_all('img')\n",
        "\n",
        "        # Lista para armazenar as imagens baixadas\n",
        "        imagens = []\n",
        "\n",
        "        # Loop através de todas as tags de imagem e baixando cada imagem\n",
        "        for img_tag in img_tags:\n",
        "            img_url = img_tag.get('src')\n",
        "            if img_url:\n",
        "                # Verificando se a URL da imagem é relativa e convertendo-a em absoluta, se necessário\n",
        "                img_url = urljoin(url, img_url)\n",
        "\n",
        "                # Enviando uma solicitação GET para a URL da imagem\n",
        "                img_response = requests.get(img_url)\n",
        "\n",
        "                # Verificando se a solicitação foi bem-sucedida e se a imagem é do tipo desejado\n",
        "                if img_response.status_code == 200 and img_url.lower().endswith(('.jpeg', '.jpg', '.png')):\n",
        "                    # Salvando a imagem na lista\n",
        "                    imagens.append((img_url, img_response.content))\n",
        "\n",
        "        # Ordenando as imagens do maior para o menor tamanho\n",
        "        imagens.sort(key=lambda x: len(x[1]), reverse=True)\n",
        "\n",
        "        # Salvando as imagens na pasta 'imagens' e renomeando conforme o tamanho\n",
        "        for i, (img_url, img_content) in enumerate(imagens, start=1):\n",
        "            with open(f'imagens/{i}.{img_url.split(\".\")[-1]}', 'wb') as img_file:\n",
        "                img_file.write(img_content)\n",
        "            print(f'Imagem {i} baixada com sucesso de {url}!')\n",
        "    else:\n",
        "        print(f'Falha ao acessar a URL {url}')\n",
        "\n",
        "# Solicitando as URLs do usuário\n",
        "urls = []\n",
        "while True:\n",
        "    url = input(\"Por favor, insira a URL da página que você deseja raspar (ou 'sair' para terminar): \").strip()\n",
        "    if url.lower() == 'sair':\n",
        "        break\n",
        "    urls.append(url)\n",
        "\n",
        "# Criando uma pasta para salvar as imagens\n",
        "os.makedirs('imagens', exist_ok=True)\n",
        "\n",
        "# Loop através de todas as URLs fornecidas e baixando as imagens\n",
        "for url in urls:\n",
        "    download_images_from_url(url.strip())\n",
        "\n",
        "# Criando um arquivo ZIP com todas as imagens\n",
        "with zipfile.ZipFile('imagens.zip', 'w') as zipf:\n",
        "    for root, _, files_in_folder in os.walk('imagens'):\n",
        "        for file in files_in_folder:\n",
        "            zipf.write(os.path.join(root, file), os.path.relpath(os.path.join(root, file), 'imagens'))\n",
        "\n",
        "# Baixando o arquivo ZIP para a máquina local\n",
        "files.download('imagens.zip')\n",
        "\n",
        "# Removendo a pasta 'imagens' e todas as imagens dentro dela\n",
        "shutil.rmtree('imagens')\n"
      ],
      "metadata": {
        "id": "YIAFJupV5aKV",
        "outputId": "a76866c6-ca68-4f08-dbb7-fe36f23a5d2f",
        "colab": {
          "base_uri": "https://localhost:8080/",
          "height": 390
        }
      },
      "execution_count": 25,
      "outputs": [
        {
          "output_type": "error",
          "ename": "KeyboardInterrupt",
          "evalue": "ignored",
          "traceback": [
            "\u001b[0;31m---------------------------------------------------------------------------\u001b[0m",
            "\u001b[0;31mKeyboardInterrupt\u001b[0m                         Traceback (most recent call last)",
            "\u001b[0;32m<ipython-input-25-c43387bc4efb>\u001b[0m in \u001b[0;36m<cell line: 53>\u001b[0;34m()\u001b[0m\n\u001b[1;32m     52\u001b[0m \u001b[0murls\u001b[0m \u001b[0;34m=\u001b[0m \u001b[0;34m[\u001b[0m\u001b[0;34m]\u001b[0m\u001b[0;34m\u001b[0m\u001b[0;34m\u001b[0m\u001b[0m\n\u001b[1;32m     53\u001b[0m \u001b[0;32mwhile\u001b[0m \u001b[0;32mTrue\u001b[0m\u001b[0;34m:\u001b[0m\u001b[0;34m\u001b[0m\u001b[0;34m\u001b[0m\u001b[0m\n\u001b[0;32m---> 54\u001b[0;31m     \u001b[0murl\u001b[0m \u001b[0;34m=\u001b[0m \u001b[0minput\u001b[0m\u001b[0;34m(\u001b[0m\u001b[0;34m\"Por favor, insira a URL da página que você deseja raspar (ou 'sair' para terminar): \"\u001b[0m\u001b[0;34m)\u001b[0m\u001b[0;34m.\u001b[0m\u001b[0mstrip\u001b[0m\u001b[0;34m(\u001b[0m\u001b[0;34m)\u001b[0m\u001b[0;34m\u001b[0m\u001b[0;34m\u001b[0m\u001b[0m\n\u001b[0m\u001b[1;32m     55\u001b[0m     \u001b[0;32mif\u001b[0m \u001b[0murl\u001b[0m\u001b[0;34m.\u001b[0m\u001b[0mlower\u001b[0m\u001b[0;34m(\u001b[0m\u001b[0;34m)\u001b[0m \u001b[0;34m==\u001b[0m \u001b[0;34m'sair'\u001b[0m\u001b[0;34m:\u001b[0m\u001b[0;34m\u001b[0m\u001b[0;34m\u001b[0m\u001b[0m\n\u001b[1;32m     56\u001b[0m         \u001b[0;32mbreak\u001b[0m\u001b[0;34m\u001b[0m\u001b[0;34m\u001b[0m\u001b[0m\n",
            "\u001b[0;32m/usr/local/lib/python3.10/dist-packages/ipykernel/kernelbase.py\u001b[0m in \u001b[0;36mraw_input\u001b[0;34m(self, prompt)\u001b[0m\n\u001b[1;32m    849\u001b[0m                 \u001b[0;34m\"raw_input was called, but this frontend does not support input requests.\"\u001b[0m\u001b[0;34m\u001b[0m\u001b[0;34m\u001b[0m\u001b[0m\n\u001b[1;32m    850\u001b[0m             )\n\u001b[0;32m--> 851\u001b[0;31m         return self._input_request(str(prompt),\n\u001b[0m\u001b[1;32m    852\u001b[0m             \u001b[0mself\u001b[0m\u001b[0;34m.\u001b[0m\u001b[0m_parent_ident\u001b[0m\u001b[0;34m,\u001b[0m\u001b[0;34m\u001b[0m\u001b[0;34m\u001b[0m\u001b[0m\n\u001b[1;32m    853\u001b[0m             \u001b[0mself\u001b[0m\u001b[0;34m.\u001b[0m\u001b[0m_parent_header\u001b[0m\u001b[0;34m,\u001b[0m\u001b[0;34m\u001b[0m\u001b[0;34m\u001b[0m\u001b[0m\n",
            "\u001b[0;32m/usr/local/lib/python3.10/dist-packages/ipykernel/kernelbase.py\u001b[0m in \u001b[0;36m_input_request\u001b[0;34m(self, prompt, ident, parent, password)\u001b[0m\n\u001b[1;32m    893\u001b[0m             \u001b[0;32mexcept\u001b[0m \u001b[0mKeyboardInterrupt\u001b[0m\u001b[0;34m:\u001b[0m\u001b[0;34m\u001b[0m\u001b[0;34m\u001b[0m\u001b[0m\n\u001b[1;32m    894\u001b[0m                 \u001b[0;31m# re-raise KeyboardInterrupt, to truncate traceback\u001b[0m\u001b[0;34m\u001b[0m\u001b[0;34m\u001b[0m\u001b[0m\n\u001b[0;32m--> 895\u001b[0;31m                 \u001b[0;32mraise\u001b[0m \u001b[0mKeyboardInterrupt\u001b[0m\u001b[0;34m(\u001b[0m\u001b[0;34m\"Interrupted by user\"\u001b[0m\u001b[0;34m)\u001b[0m \u001b[0;32mfrom\u001b[0m \u001b[0;32mNone\u001b[0m\u001b[0;34m\u001b[0m\u001b[0;34m\u001b[0m\u001b[0m\n\u001b[0m\u001b[1;32m    896\u001b[0m             \u001b[0;32mexcept\u001b[0m \u001b[0mException\u001b[0m \u001b[0;32mas\u001b[0m \u001b[0me\u001b[0m\u001b[0;34m:\u001b[0m\u001b[0;34m\u001b[0m\u001b[0;34m\u001b[0m\u001b[0m\n\u001b[1;32m    897\u001b[0m                 \u001b[0mself\u001b[0m\u001b[0;34m.\u001b[0m\u001b[0mlog\u001b[0m\u001b[0;34m.\u001b[0m\u001b[0mwarning\u001b[0m\u001b[0;34m(\u001b[0m\u001b[0;34m\"Invalid Message:\"\u001b[0m\u001b[0;34m,\u001b[0m \u001b[0mexc_info\u001b[0m\u001b[0;34m=\u001b[0m\u001b[0;32mTrue\u001b[0m\u001b[0;34m)\u001b[0m\u001b[0;34m\u001b[0m\u001b[0;34m\u001b[0m\u001b[0m\n",
            "\u001b[0;31mKeyboardInterrupt\u001b[0m: Interrupted by user"
          ]
        }
      ]
    }
  ],
  "metadata": {
    "colab": {
      "name": "Olá, este é o Colaboratory",
      "provenance": [],
      "include_colab_link": true
    },
    "kernelspec": {
      "display_name": "Python 3",
      "name": "python3"
    }
  },
  "nbformat": 4,
  "nbformat_minor": 0
}
